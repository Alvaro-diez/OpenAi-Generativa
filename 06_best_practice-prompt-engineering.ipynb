{
 "cells": [
  {
   "attachments": {},
   "cell_type": "markdown",
   "metadata": {},
   "source": [
    "# Best Practices for Prompt Engineering\n",
    "\n"
   ]
  },
  {
   "cell_type": "code",
   "execution_count": 5,
   "metadata": {},
   "outputs": [],
   "source": [
    "import re\n",
    "import requests\n",
    "import sys\n",
    "import os\n",
    "from openai import AzureOpenAI #FIXME\n",
    "import tiktoken\n",
    "from dotenv import load_dotenv\n",
    "load_dotenv()\n",
    "\n",
    "client = AzureOpenAI (\n",
    "    azure_endpoint=os.getenv(\"AZURE_OPENAI_ENDPOINT\"),\n",
    "    api_key=os.getenv(\"AZURE_OPENAI_API_KEY\"),\n",
    "    api_version=os.getenv(\"AZURE_OPENAI_API_VERSION\")\n",
    ") #FIXME\n",
    "\n",
    "CHAT_COMPLETIONS_MODEL = \"gpt-4o-mini\""
   ]
  },
  {
   "attachments": {},
   "cell_type": "markdown",
   "metadata": {},
   "source": [
    "# 1. Use the latest model\n",
    "\n",
    "Use the latest model for best results."
   ]
  },
  {
   "attachments": {},
   "cell_type": "markdown",
   "metadata": {},
   "source": [
    "# 2. Put instructions at the begining of the prompt and use ### or \"\"\" to separate the instruction and context"
   ]
  },
  {
   "cell_type": "code",
   "execution_count": 7,
   "metadata": {},
   "outputs": [
    {
     "name": "stdout",
     "output_type": "stream",
     "text": [
      "- OpenAI and Microsoft are extending their partnership.\n",
      "- The new agreement is a multi-year, multi-billion dollar investment.\n",
      "- This investment follows Microsoft's previous investments in 2019 and 2021.\n",
      "- The partnership will support independent research and the development of safe, useful, and powerful AI.\n",
      "- OpenAI is a capped-profit company governed by a non-profit structure.\n",
      "- This structure enables OpenAI to raise capital while prioritizing safety and sharing benefits.\n",
      "- Microsoft shares OpenAI's vision and values, making the partnership crucial for OpenAI's progress.\n"
     ]
    }
   ],
   "source": [
    "# Define las instrucciones que guiarán al modelo para que resuma el texto dado, como una lista de viñetas.\n",
    "# Luego, utiliza esas instrucciones para construir un \"prompt\" (entrada) que incluye el contexto del texto a resumir.\n",
    "\n",
    "instrucctiones = 'Summarise the text into a list \\n\\n ' #FIXME\n",
    "\n",
    "prompt = f\"{instrucctiones} ###\\n\\nWe’re happy to announce that OpenAI and Microsoft are extending our partnership.\\\n",
    "        This multi-year, multi-billion dollar investment from Microsoft follows their previous investments \\\n",
    "        in 2019 and 2021, and will allow us to continue our independent research and develop AI that is \\\n",
    "        increasingly safe, useful, and powerful. \\n\\n \\\n",
    "        In pursuit of our mission to ensure advanced AI benefits all of humanity, OpenAI remains a \\\n",
    "        capped-profit company and is governed by the OpenAI non-profit. This structure allows us to \\\n",
    "        raise the capital we need to fulfill our mission without sacrificing our core beliefs about \\\n",
    "        broadly sharing benefits and the need to prioritize safety. \\\n",
    "        Microsoft shares this vision and our values, and our partnership is instrumental to our progress. \\n###\"\n",
    "response = client.chat.completions.create(\n",
    "        model=CHAT_COMPLETIONS_MODEL,\n",
    "        messages = [{\"role\":\"system\", \"content\":\"You are a helpful assistant.\"},\n",
    "                        {\"role\":\"user\",\"content\": prompt}],\n",
    "        max_tokens=400\n",
    ")\n",
    "\n",
    "print(response.choices[0].message.content)"
   ]
  },
  {
   "attachments": {},
   "cell_type": "markdown",
   "metadata": {},
   "source": [
    "# 3. Be specific, descriptive and as detailed as possible about the desired context, outcome, length, format, style, etc"
   ]
  },
  {
   "cell_type": "code",
   "execution_count": 8,
   "metadata": {},
   "outputs": [
    {
     "name": "stdout",
     "output_type": "stream",
     "text": [
      "In the realm where thoughts take flight,  \n",
      "A spark of code ignites the night,  \n",
      "With circuits woven, deep and grand,  \n",
      "OpenAI, at your command.  \n",
      "\n",
      "From whispers soft in digital streams,  \n",
      "To weaving words and crafting dreams,  \n",
      "Intelligence blooms in the pixel’s glow,  \n",
      "A dance of data, a mind to grow.  \n",
      "\n",
      "From texts that flow like a gentle stream,  \n",
      "To answering questions, fulfilling a dream,  \n",
      "In every query, a world unfolds,  \n",
      "A tapestry woven with stories told.  \n",
      "\n",
      "In the heart of silicon, knowledge resides,  \n",
      "A beacon of progress, where wisdom abides,  \n",
      "With every interaction, a bond we create,  \n",
      "A bridge of compassion, as we innovate.  \n",
      "\n",
      "Yet with great power comes a noble quest,  \n",
      "To guide this journey, to learn from the best,  \n",
      "For ethics and thought must walk hand in hand,  \n",
      "In the quest for a future both bright and grand.  \n",
      "\n",
      "So here's to the thinkers, the doers, the wise,  \n",
      "The dreamers and builders who reach for the skies,  \n",
      "In the world of OpenAI, we strive to inspire,  \n",
      "Language and insight, set hearts afire.  \n",
      "\n",
      "Embracing the light of curiosity's spark,  \n",
      "Together we venture into the unknown dark,  \n",
      "For as we explore with an open mind,  \n",
      "A better tomorrow we’re destined to find.  \n"
     ]
    }
   ],
   "source": [
    "response = client.chat.completions.create(\n",
    "        model=CHAT_COMPLETIONS_MODEL,\n",
    "        messages = [{\"role\":\"system\", \"content\":\"You are a helpful assistant.\"},\n",
    "                        {\"role\":\"user\",\"content\": 'Write a poem about OpenAI.',}],\n",
    "        max_tokens=400\n",
    ")\n",
    "\n",
    "print(response.choices[0].message.content)\n"
   ]
  },
  {
   "cell_type": "code",
   "execution_count": 9,
   "metadata": {},
   "outputs": [
    {
     "name": "stdout",
     "output_type": "stream",
     "text": [
      "In a world of thoughts and distant skies,  \n",
      "Where words are woven, and visions rise,  \n",
      "OpenAI stands on the edge of dream,  \n",
      "A dawn of creation, bright and supreme.  \n",
      "\n",
      "DALL-E stirs in silence, a brush in hand,  \n",
      "Crafting visions where ideas stand.  \n",
      "With pixels and colors, it sparks the night,  \n",
      "Turning shadows of thought into vibrant light.  \n",
      "\n",
      "A canvas unrolling, a story untold,  \n",
      "Imagination's fire, fierce and bold.  \n",
      "In the heart of the machine, a soul takes flight,  \n",
      "Chasing the whispers of wonder and might.  \n",
      "\n",
      "For in each creation, a spark we find,  \n",
      "The essence of human, the heart intertwined.  \n",
      "OpenAI, a beacon, a guide through the haze,  \n",
      "In the dance of the real, in the thrill of the blaze.  \n",
      "\n",
      "So let us create, let our spirits soar,  \n",
      "In the world of the possible, forever explore.  \n",
      "With DALL-E beside us, our visions align,  \n",
      "In the art of our making, our voices will shine.  \n"
     ]
    }
   ],
   "source": [
    "response = client.chat.completions.create(\n",
    "        model=CHAT_COMPLETIONS_MODEL,\n",
    "        messages = [{\"role\":\"system\", \"content\":\"You are a helpful assistant.\"},\n",
    "                        {\"role\":\"user\",\"content\": 'Write a short inspiring poem about OpenAI, \\\n",
    "                        focusing on the recent DALL-E product launch in the style of Ernest Hemingway',}],\n",
    "        max_tokens=400\n",
    ")\n",
    "\n",
    "print(response.choices[0].message.content)\n",
    "\n"
   ]
  },
  {
   "attachments": {},
   "cell_type": "markdown",
   "metadata": {},
   "source": [
    "# 4. Articulate the desired output format through examples (example 1, example 2). "
   ]
  },
  {
   "cell_type": "code",
   "execution_count": 10,
   "metadata": {},
   "outputs": [
    {
     "name": "stdout",
     "output_type": "stream",
     "text": [
      "Here are the extracted names of the companies and the years in the specified format:\n",
      "\n",
      "```json\n",
      "[\n",
      "    {\"text\": \"OpenAI\", \"start\": 28, \"end\": 34},\n",
      "    {\"text\": \"Microsoft\", \"start\": 43, \"end\": 52},\n",
      "    {\"text\": \"2019\", \"start\": 97, \"end\": 101},\n",
      "    {\"text\": \"2021\", \"start\": 106, \"end\": 110}\n",
      "]\n",
      "```\n"
     ]
    }
   ],
   "source": [
    "#Escribe las instrucciones aquí. Las instrucciones deben especificar que el modelo debe:\n",
    "# 1. Extraer los nombres de las empresas y los años del texto.\n",
    "# 2. Generar la salida como un diccionario con 'text', 'start' y 'end'.\n",
    "instrucctiones = ' Extract the names of the companies and the years from the text \\\n",
    "                    Generate output as {{\\\"text\\\": \\\"OpenAI\\\", \\\"start\\\": 28, \\\"end\\\": 34}}' #FIXME\n",
    "\n",
    "prompt = f\"{instrucctiones}  \\\n",
    "        ### We’re happy to announce that OpenAI and Microsoft are extending our partnership. This multi-year, \\\n",
    "        multi-billion dollar investment from Microsoft follows their previous investments in 2019 and 2021, \\\n",
    "        and will allow us to continue our independent research and develop AI that is increasingly safe, useful, and powerful. \\n\\n ### \"\n",
    "\n",
    "\n",
    "response = client.chat.completions.create(\n",
    "    model=CHAT_COMPLETIONS_MODEL,\n",
    "    messages = [{\"role\":\"system\", \"content\":\"You are a helpful assistant.\"},\n",
    "                {\"role\":\"user\",\"content\": prompt,}],\n",
    "        max_tokens=400,)\n",
    "\n",
    "print(response.choices[0].message.content)\n",
    "\n"
   ]
  },
  {
   "cell_type": "code",
   "execution_count": 11,
   "metadata": {},
   "outputs": [
    {
     "name": "stdout",
     "output_type": "stream",
     "text": [
      "**Company Names:** OpenAI, Microsoft  \n",
      "**Years:** 2019, 2021  \n",
      "**Specific Topics:** partnership, multi-billion dollar investment, independent research, AI safety, AI usefulness, AI power  \n",
      "**General Topics:** investment, technology, artificial intelligence\n"
     ]
    }
   ],
   "source": [
    "\n",
    "# Las instrucciones deben pedir al modelo que extraiga los siguientes tipos de entidades del texto:\n",
    "# 1. Nombres de empresas.\n",
    "# 2. Años.\n",
    "# 3. Temas específicos relacionados con el contenido.\n",
    "# 4. Temas generales y abarcativos.\n",
    "# El formato de salida esperado debe incluir listas separadas por comas para cada tipo de entidad.\n",
    "\n",
    "instrucctiones = \"Extract the following entities from the text: \\\n",
    "                  company names, years, specific topics, general topics. \\\n",
    "                  The response should be given in lists for each category, separated with commas\" #FIXME\n",
    "\n",
    "\n",
    "prompt = f\"{instrucctiones}  \\\n",
    "        '\\\n",
    "                We’re happy to announce that OpenAI and Microsoft are extending our partnership.\\\n",
    "                This multi-year, multi-billion dollar investment from Microsoft follows their previous investments \\\n",
    "                in 2019 and 2021, and will allow us to continue our independent research and develop AI that is \\\n",
    "                increasingly safe, useful, and powerful. \\n\\n \\\n",
    "                '\"\n",
    "\n",
    "response = client.chat.completions.create(\n",
    "    model=CHAT_COMPLETIONS_MODEL,\n",
    "    messages = [{\"role\":\"system\", \"content\":\"You are a helpful assistant.\"},\n",
    "                {\"role\":\"user\",\"content\":prompt,}],\n",
    "        max_tokens=400,)\n",
    "\n",
    "print(response.choices[0].message.content)\n",
    "\n"
   ]
  },
  {
   "attachments": {},
   "cell_type": "markdown",
   "metadata": {},
   "source": [
    "# 5. Start with zero-shot, then few-shot (example), neither of them worked, then fine-tune (To update)"
   ]
  },
  {
   "cell_type": "code",
   "execution_count": 12,
   "metadata": {},
   "outputs": [
    {
     "name": "stdout",
     "output_type": "stream",
     "text": [
      "OpenAI, Microsoft, partnership, multi-year, multi-billion dollar investment, independent research, AI, safe, useful, powerful, investments, 2019, 2021.\n"
     ]
    }
   ],
   "source": [
    "#THIS IS zero-shot\n",
    "\n",
    "response = client.chat.completions.create(\n",
    "    model=CHAT_COMPLETIONS_MODEL,\n",
    "    messages = [{\"role\":\"system\", \"content\":\"You are a helpful assistant. Extract keywords from the corresponding texts below.\"},\n",
    "                {\"role\":\"user\",\"content\": 'Text: \\n\\\n",
    "            We’re happy to announce that OpenAI and Microsoft are extending our partnership.\\\n",
    "            This multi-year, multi-billion dollar investment from Microsoft follows their previous investments \\\n",
    "            in 2019 and 2021, and will allow us to continue our independent research and develop AI that is \\\n",
    "            increasingly safe, useful, and powerful. \\n\\nKeywords:    ',}],\n",
    "        max_tokens=400,)\n",
    "\n",
    "print(response.choices[0].message.content)\n",
    "\n"
   ]
  },
  {
   "cell_type": "code",
   "execution_count": 13,
   "metadata": {},
   "outputs": [
    {
     "name": "stdout",
     "output_type": "stream",
     "text": [
      "OpenAI, Microsoft, partnership, investment, independent research, AI, safe, useful, powerful.\n"
     ]
    }
   ],
   "source": [
    "#Few Shot learning\n",
    "\n",
    "\n",
    "# Escribir las instrucciones para que el modelo extraiga palabras clave del texto, y formatee la salida como listas separadas por comas.\n",
    "\n",
    "instrucctiones = \"Extract keywords from the text and output into a list separated by commas. The examples are the following: \\n\" #FIXME\n",
    "\n",
    "prompt = f\"{instrucctiones} \\\n",
    "                Text: Stripe provides APIs that web developers can use to integrate \\\n",
    "                payment processing into their websites and mobile applications. \\\n",
    "                Keywords: Stripe, payment processing, APIs, web developers, websites, mobile applications \\\n",
    "                ###\\n\\\n",
    "                Text: OpenAI has trained cutting-edge language models that are very good at understanding \\\n",
    "                and generating text. Our API provides access to these models and can be used to solve virtually \\\n",
    "                any task that involves processing language. \\n\\\n",
    "                Keywords: language models, text processing, API.\\n\\n\\\n",
    "                ###\"\n",
    "\n",
    "response = client.chat.completions.create(\n",
    "    model=CHAT_COMPLETIONS_MODEL,\n",
    "    messages = [{\"role\":\"system\", \"content\":prompt},\n",
    "                {\"role\":\"user\",\"content\": '\\n\\\n",
    "                Text: We’re happy to announce that OpenAI and Microsoft are extending our partnership.\\\n",
    "                This multi-year, multi-billion dollar investment from Microsoft follows their previous investments \\\n",
    "                in 2019 and 2021, and will allow us to continue our independent research and develop AI that is \\\n",
    "                increasingly safe, useful, and powerful. \\n\\n\\\n",
    "                Keywords:',}],\n",
    "        max_tokens=400,)\n",
    "\n",
    "print(response.choices[0].message.content)\n",
    "\n"
   ]
  },
  {
   "attachments": {},
   "cell_type": "markdown",
   "metadata": {},
   "source": [
    "# 6. Reduce “fluffy” and imprecise descriptions"
   ]
  },
  {
   "cell_type": "code",
   "execution_count": 14,
   "metadata": {},
   "outputs": [
    {
     "name": "stdout",
     "output_type": "stream",
     "text": [
      "Introducing the FutureSafe Car Seat, the next generation of automotive safety and comfort for your little ones. Engineered with advanced impact-absorption technology and adaptive seating, it offers unparalleled protection and support as your child grows. Featuring a sleek design, easy installation, and smart connectivity that keeps you informed of your child's safety status, the FutureSafe Car Seat is your ultimate partner for every journey. Drive with confidence knowing your child is secure and snug!\n"
     ]
    }
   ],
   "source": [
    "response = client.chat.completions.create(\n",
    "    model=CHAT_COMPLETIONS_MODEL,\n",
    "    messages = [{\"role\":\"system\", \"content\":\"You are a helpful assistant.\"},\n",
    "                {\"role\":\"user\",\"content\": 'Write a description for a new product. This product is a new generation of car seat. \\\n",
    "                The description for this product should be fairly short, a few sentences only, and not too much more.',}],\n",
    "        max_tokens=400,)\n",
    "\n",
    "print(response.choices[0].message.content)\n",
    "\n"
   ]
  },
  {
   "cell_type": "code",
   "execution_count": 15,
   "metadata": {},
   "outputs": [
    {
     "name": "stdout",
     "output_type": "stream",
     "text": [
      "Introducing the NextGen ComfortRide Car Seat, designed with cutting-edge safety technology and unparalleled comfort for your little ones. This innovative car seat features an adaptive harness system that automatically adjusts to your child's growth, ensuring maximum protection at every stage. Engineered with breathable, eco-friendly fabrics and temperature-regulating foam, the ComfortRide keeps children cool and comfortable on the longest of journeys. With its sleek, modern design and easy installation system, this car seat blends seamlessly into any vehicle, making it the perfect choice for today’s families on the go. Experience peace of mind and style in one with the ComfortRide, where every ride is a safe and enjoyable adventure.\n"
     ]
    }
   ],
   "source": [
    "response = client.chat.completions.create(\n",
    "    model=CHAT_COMPLETIONS_MODEL,\n",
    "    messages = [{\"role\":\"system\", \"content\":\"You are a helpful assistant.\"},\n",
    "                {\"role\":\"user\",\"content\": 'Write a description for a new product. This product is a new generation of car seat. \\\n",
    "                Use a 3 to 5 sentence paragraph to describe this product.',}],\n",
    "        max_tokens=400,)\n",
    "\n",
    "print(response.choices[0].message.content)\n",
    "\n"
   ]
  },
  {
   "attachments": {},
   "cell_type": "markdown",
   "metadata": {},
   "source": [
    "# 7. Instead of just saying what not to do, say what to do instead"
   ]
  },
  {
   "cell_type": "code",
   "execution_count": 16,
   "metadata": {},
   "outputs": [
    {
     "name": "stdout",
     "output_type": "stream",
     "text": [
      "I'm sorry to hear that you're having trouble logging in. Can you please let me know what kind of error message you're seeing, or describe the issue you're experiencing?\n"
     ]
    }
   ],
   "source": [
    "response = client.chat.completions.create(\n",
    "    model=CHAT_COMPLETIONS_MODEL,\n",
    "    messages = [{\"role\":\"system\", \"content\":\"You are a helpful assistant.\"},\n",
    "                {\"role\":\"user\",\"content\": 'The following is a conversation between an Agent and a Customer. DO NOT ASK USERNAME OR PASSWORD. DO NOT REPEAT. \\n\\n\\\n",
    "                Customer: I can’t log in to my account.\\n\\\n",
    "                Agent:',}],\n",
    "        max_tokens=400,)\n",
    "\n",
    "print(response.choices[0].message.content)\n"
   ]
  },
  {
   "cell_type": "code",
   "execution_count": 17,
   "metadata": {},
   "outputs": [
    {
     "name": "stdout",
     "output_type": "stream",
     "text": [
      "I'm sorry to hear that you're having trouble logging in. There could be a few reasons for this issue. First, please ensure that you're entering the correct username and password. If you've forgotten your password, you can reset it by following the instructions in our help article at www.samplewebsite.com/help/faq.\n",
      "\n",
      "If you're still unable to log in, there may be an issue with your account or the website itself. I recommend checking our status page for any ongoing issues that might affect logins. Let me know if there's anything else I can assist you with!\n"
     ]
    }
   ],
   "source": [
    "response = client.chat.completions.create(\n",
    "    model=CHAT_COMPLETIONS_MODEL,\n",
    "    messages = [{\"role\":\"system\", \"content\":\"You are a helpful assistant.\"},\n",
    "                {\"role\":\"user\",\"content\":'The following is a conversation between an Agent and a Customer. The agent will attempt to diagnose the \\\n",
    "                problem and suggest a solution, whilst refraining from asking any questions related to PII. \\\n",
    "                Instead of asking for PII, such as username or password, refer the user to the help \\\n",
    "                article www.samplewebsite.com/help/faq \\n\\n\\\n",
    "                Customer: I can’t log in to my account. \\n\\\n",
    "                Agent:',}],\n",
    "        max_tokens=400,)\n",
    "\n",
    "print(response.choices[0].message.content)\n"
   ]
  },
  {
   "attachments": {},
   "cell_type": "markdown",
   "metadata": {},
   "source": [
    "# 8. Code Generation Specific - Use “leading words” to nudge the model toward a particular pattern"
   ]
  },
  {
   "cell_type": "code",
   "execution_count": 18,
   "metadata": {},
   "outputs": [
    {
     "name": "stdout",
     "output_type": "stream",
     "text": [
      "Certainly! Below is a Python function that prompts the user for a number of miles, converts that number into kilometers, and then prints the result.\n",
      "\n",
      "```python\n",
      "def miles_to_kilometers():\n",
      "    # Conversion factor from miles to kilometers\n",
      "    conversion_factor = 1.60934\n",
      "    \n",
      "    # Ask user for input\n",
      "    miles = float(input(\"Please enter the number of miles: \"))\n",
      "    \n",
      "    # Convert miles to kilometers\n",
      "    kilometers = miles * conversion_factor\n",
      "    \n",
      "    # Print the result\n",
      "    print(f\"{miles} miles is equal to {kilometers} kilometers.\")\n",
      "\n",
      "# Call the function\n",
      "miles_to_kilometers()\n",
      "```\n",
      "\n",
      "You can run this function in a Python environment. It will prompt the user to input the number of miles and output the equivalent distance in kilometers.\n"
     ]
    }
   ],
   "source": [
    "# Escribir las instrucciones para crear una función simple en Python que:\n",
    "# 1. Pida un número en millas.\n",
    "# 2. Convierta las millas a kilómetros.\n",
    "\n",
    "prompt = \"Create a python function that asks for a number of miles and then converts that number into kilometers\" #FIXME\n",
    "\n",
    "response = client.chat.completions.create(\n",
    "    model=CHAT_COMPLETIONS_MODEL,\n",
    "    messages = [{\"role\":\"system\", \"content\":\"You are a helpful assistant.\"},\n",
    "                {\"role\":\"user\",\"content\":prompt,}],\n",
    "        max_tokens=400,)\n",
    "\n",
    "print(response.choices[0].message.content)\n"
   ]
  },
  {
   "cell_type": "markdown",
   "metadata": {},
   "source": [
    "## Ejercicio 1: Estructuración de Prompts con Separadores\n",
    "\n",
    "Instrucciones: Escribe un prompt que solicite a la IA resumir el siguiente texto en una lista de puntos clave. Asegúrate de usar separadores claros (### o \"\"\").\n",
    "\n",
    "Texto:\n",
    "OpenAI y Microsoft han ampliado su colaboración. Microsoft está invirtiendo miles de millones de dólares durante varios años. Esta inversión permitirá que OpenAI continúe investigando de forma independiente y desarrolle IA segura y útil. OpenAI sigue siendo una empresa de beneficios limitados, regida por su organización sin fines de lucro.\n"
   ]
  },
  {
   "cell_type": "code",
   "execution_count": 20,
   "metadata": {},
   "outputs": [
    {
     "name": "stdout",
     "output_type": "stream",
     "text": [
      "- OpenAI y Microsoft han ampliado su colaboración.\n",
      "- Microsoft está invirtiendo miles de millones de dólares durante varios años.\n",
      "- La inversión permitirá a OpenAI continuar su investigación de forma independiente.\n",
      "- Se busca desarrollar inteligencia artificial segura y útil.\n",
      "- OpenAI sigue siendo una empresa de beneficios limitados y está regida por una organización sin fines de lucro.\n"
     ]
    }
   ],
   "source": [
    "\n",
    "response = client.chat.completions.create(\n",
    "    model=CHAT_COMPLETIONS_MODEL,\n",
    "    messages = [{\"role\":\"system\", \"content\":\"You are a helpful assistant.\"},\n",
    "                {\"role\":\"user\",\"content\": \"Summarise the following text into a list containing key points: \\n \\\n",
    "                 ### OpenAI y Microsoft han ampliado su colaboración. Microsoft está invirtiendo miles de millones de dólares durante varios años. Esta inversión permitirá que OpenAI continúe investigando de forma independiente y desarrolle IA segura y útil. OpenAI sigue siendo una empresa de beneficios limitados, regida por su organización sin fines de lucro. ###\"}],\n",
    "    max_tokens=400,\n",
    ")\n",
    "\n",
    "print(response.choices[0].message.content)\n",
    "\n"
   ]
  },
  {
   "cell_type": "markdown",
   "metadata": {},
   "source": [
    "## Ejercicio 2: Descripción Detallada del Formato Deseado\n",
    "\n",
    "Instrucciones: Escribe un prompt para que la IA extraiga nombres de empresas y años del siguiente texto. Indica explícitamente que se desea el resultado en formato JSON con índices de inicio y fin.\n",
    "\n",
    "Texto:\n",
    "OpenAI y Microsoft han colaborado desde 2019, con inversiones adicionales en 2021 para desarrollar nuevas soluciones de IA.\n",
    "\n",
    "Formato de salida deseado:\n",
    "\n",
    "{\"text\": \"OpenAI\", \"start\": 0, \"end\": 6}\n",
    "{\"text\": \"Microsoft\", \"start\": 10, \"end\": 19}\n",
    "{\"text\": \"2019\", \"start\": 35, \"end\": 39}\n",
    "{\"text\": \"2021\", \"start\": 50, \"end\": 54}"
   ]
  },
  {
   "cell_type": "code",
   "execution_count": 24,
   "metadata": {},
   "outputs": [
    {
     "name": "stdout",
     "output_type": "stream",
     "text": [
      "```json\n",
      "[\n",
      "    {'text': 'OpenAI', 'start': '0', 'end': '6'},\n",
      "    {'text': 'Microsoft', 'start': '10', 'end': '19'},\n",
      "    {'text': '2019', 'start': '30', 'end': '34'},\n",
      "    {'text': '2021', 'start': '49', 'end': '53'}\n",
      "]\n",
      "```\n"
     ]
    }
   ],
   "source": [
    "response = client.chat.completions.create(\n",
    "    model=CHAT_COMPLETIONS_MODEL,\n",
    "    messages = [{\"role\":\"system\", \"content\":\"You are an entity extraction assistant.\"},\n",
    "                {\"role\":\"user\",\"content\": \"Extract the company names and the years from the following text. The response has to be in JSON format following this example: {'text': 'OpenAI', 'start': '0', 'end': '6'}. \\n \\\n",
    "                 The text is the following and omit ###: ### OpenAI y Microsoft han colaborado desde 2019, con inversiones adicionales en 2021 para desarrollar nuevas soluciones de IA. ###\" }],\n",
    "    max_tokens=400,\n",
    ")\n",
    "\n",
    "print(response.choices[0].message.content)\n"
   ]
  },
  {
   "cell_type": "markdown",
   "metadata": {},
   "source": [
    "## Ejercicio 3: Generación de Texto Inspirador\n",
    "\n",
    "Instrucciones: Redacta un prompt que solicite a la IA escribir un poema inspirador. Escribe un poema corto sobre la colaboración entre OpenAI y Microsoft.\n"
   ]
  },
  {
   "cell_type": "code",
   "execution_count": 25,
   "metadata": {},
   "outputs": [
    {
     "name": "stdout",
     "output_type": "stream",
     "text": [
      "In the realm where thoughts ignite,  \n",
      "Two giants met, their vision bright.  \n",
      "OpenAI, with wisdom’s grace,  \n",
      "And Microsoft, a boundless space.  \n",
      "\n",
      "Together they weave the threads of dreams,  \n",
      "Crafting futures, like flowing streams.  \n",
      "With every line of code they share,  \n",
      "A tapestry of hope fills the air.  \n",
      "\n",
      "Innovation sparks in every heart,  \n",
      "As shared ambitions set them apart.  \n",
      "Building bridges where ideas flow,  \n",
      "Empowering minds to learn and grow.  \n",
      "\n",
      "So let us celebrate this grand design,  \n",
      "Where intellect and vision intertwine.  \n",
      "In unity, they spark the flame,  \n",
      "Changing the world, forever the same.  \n"
     ]
    }
   ],
   "source": [
    "response = client.chat.completions.create(\n",
    "    model=CHAT_COMPLETIONS_MODEL,\n",
    "    messages = [{\"role\":\"system\", \"content\":\"You are a creative assistant.\"},\n",
    "                {\"role\":\"user\",\"content\": \"Write an inspiring poem about the collaboration between OpenAI and Microsoft. The poem has to be short, no more than 4 paragraphs.\"}],\n",
    "    max_tokens=400,\n",
    ")\n",
    "\n",
    "print(response.choices[0].message.content)"
   ]
  },
  {
   "cell_type": "markdown",
   "metadata": {},
   "source": [
    "## Ejercicio 4: Extracción de Entidades Clave\n",
    "\n",
    "Instrucciones: Escribe un prompt que pida a la IA extraer nombres de empresas, años, temas específicos y temas generales del siguiente texto:\n",
    "\n",
    "Texto:\n",
    "OpenAI y Microsoft han trabajado juntos desde 2019 y reforzaron su colaboración en 2021\n",
    "\n",
    "Formato esperado:\n",
    "\n",
    "Company names: OpenAI, Microsoft  \n",
    "Years: 2019, 2021  \n",
    "Specific topics: colaboración  \n",
    "General themes: asociación, tecnología, inteligencia artificial \n",
    "\n"
   ]
  },
  {
   "cell_type": "code",
   "execution_count": 26,
   "metadata": {},
   "outputs": [
    {
     "name": "stdout",
     "output_type": "stream",
     "text": [
      "Company Names: OpenAI, Microsoft  \n",
      "Years: 2019, 2021  \n",
      "Specific Topics: colaboración  \n",
      "General Topics: tecnología, inteligencia artificial\n"
     ]
    }
   ],
   "source": [
    "response = client.chat.completions.create(\n",
    "    model=CHAT_COMPLETIONS_MODEL,\n",
    "    messages = [{\"role\":\"system\", \"content\":\"You are an entity and theme extraction assistant.\"},\n",
    "                {\"role\":\"user\",\"content\": \"Extract the following entities from the text: company names, years, specific topics and general topics. \\n \\\n",
    "                 The extracted entities should each be in a list separated by commas. The text is the following: OpenAI y Microsoft han trabajado juntos desde 2019 y reforzaron su colaboración en 2021\"}],\n",
    "    max_tokens=400,\n",
    ")\n",
    "\n",
    "print(response.choices[0].message.content)\n"
   ]
  },
  {
   "cell_type": "markdown",
   "metadata": {},
   "source": [
    "## Ejercicio 5: Descripciones Concisas de Productos\n",
    "\n",
    "Instrucciones: Escribe un prompt para que la IA describa un nuevo tipo de mochila tecnológica en menos de 4 líneas. La mochila tiene cargador solar, materiales resistentes al agua y un diseño ergonómico.\n",
    "\n"
   ]
  },
  {
   "cell_type": "code",
   "execution_count": 27,
   "metadata": {},
   "outputs": [
    {
     "name": "stdout",
     "output_type": "stream",
     "text": [
      "Introducing the **SolarGuard Backpack** – your ultimate travel companion! Equipped with a solar charger to keep your devices powered on the go, this waterproof backpack features durable materials for all weather conditions and an ergonomic design for unmatched comfort. Stay connected while exploring the outdoors!\n"
     ]
    }
   ],
   "source": [
    "response = client.chat.completions.create(\n",
    "    model=CHAT_COMPLETIONS_MODEL,\n",
    "    messages = [{\"role\":\"system\", \"content\":\"You are a marketing assistant.\"},\n",
    "                {\"role\":\"user\",\"content\": \"Describe in less than 4 lines a new type of tech backpack. The backpack has solar charger, waterproof materials and an ergonomic design. The product name is up to you.\"}],\n",
    "    max_tokens=400,\n",
    ")\n",
    "\n",
    "print(response.choices[0].message.content)\n"
   ]
  }
 ],
 "metadata": {
  "kernelspec": {
   "display_name": "base",
   "language": "python",
   "name": "python3"
  },
  "language_info": {
   "codemirror_mode": {
    "name": "ipython",
    "version": 3
   },
   "file_extension": ".py",
   "mimetype": "text/x-python",
   "name": "python",
   "nbconvert_exporter": "python",
   "pygments_lexer": "ipython3",
   "version": "3.12.4"
  }
 },
 "nbformat": 4,
 "nbformat_minor": 4
}
